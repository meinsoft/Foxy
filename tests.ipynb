{
 "cells": [
  {
   "cell_type": "code",
   "execution_count": null,
   "metadata": {},
   "outputs": [],
   "source": []
  },
  {
   "cell_type": "markdown",
   "metadata": {},
   "source": [
    "# Foxy ![](https://visitor-badge.glitch.me/badge?page_id=foxysec.foxy)  \n",
    "\n",
    "<div> \n",
    "  <p align=\"center\">\n",
    "    <img src=\"_assets/b_foxy.svg\" width=\"400\"> \n",
    "  </p>\n",
    "</div>\n",
    "\n",
    "Foxy is cli application that allows you to create trojan , rat virusses and use all payloads inside of Foxy. \n",
    "Here is the installation script.\n",
    "```\n",
    "git clone https://github.com/foxysec/Foxy\n",
    "cd Foxy\n",
    "pip install -r requirements.txt\n",
    "python foxy.py # Start Foxy\n",
    "```\n",
    "\n",
    "# Guide & Usage\n",
    "* To get help type 'help' and press enter. You Will get this result :\n",
    "```\n",
    "● [Basic]: \n",
    "\n",
    "    clear          : clear cmd\n",
    "    history        : show Foxy command history\n",
    "    ls             : list files in current directory\n",
    "    pwd            : print current directory\n",
    "    cd <dir>       : open folder\n",
    "    ping <host>    : ping host\n",
    "\n",
    "● [Advanced]:\n",
    "    list                : list avaliable payloads\n",
    "    set payload <pn>    : set payload to start \n",
    "```\n",
    "* Setting payload : Setting payload will run setted payload script. \n",
    "\n",
    "#### **Developed by Foxy Security Team** :\n",
    "* [@Thesaderror](github.com/Thesaderror)  \n",
    "* [@Ayhuuu](github.com/Ayhuuu)  \n",
    "* [@Art0nus](github.com/Art0nus)  "
   ]
  }
 ],
 "metadata": {
  "kernelspec": {
   "display_name": "Python 3.10.8 64-bit",
   "language": "python",
   "name": "python3"
  },
  "language_info": {
   "name": "python",
   "version": "3.10.8"
  },
  "orig_nbformat": 4,
  "vscode": {
   "interpreter": {
    "hash": "e7370f93d1d0cde622a1f8e1c04877d8463912d04d973331ad4851f04de6915a"
   }
  }
 },
 "nbformat": 4,
 "nbformat_minor": 2
}
